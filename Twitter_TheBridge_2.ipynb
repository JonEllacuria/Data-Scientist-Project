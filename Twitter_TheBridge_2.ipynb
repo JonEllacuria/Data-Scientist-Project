{
 "cells": [
  {
   "cell_type": "code",
   "execution_count": 1,
   "metadata": {},
   "outputs": [],
   "source": [
    "import pandas as pd\n",
    "import sqlite3"
   ]
  },
  {
   "cell_type": "code",
   "execution_count": 2,
   "metadata": {},
   "outputs": [],
   "source": [
    "tweets_df=pd.read_csv(\"tweets_df.csv\")"
   ]
  },
  {
   "cell_type": "code",
   "execution_count": 3,
   "metadata": {},
   "outputs": [
    {
     "data": {
      "text/html": [
       "<div>\n",
       "<style scoped>\n",
       "    .dataframe tbody tr th:only-of-type {\n",
       "        vertical-align: middle;\n",
       "    }\n",
       "\n",
       "    .dataframe tbody tr th {\n",
       "        vertical-align: top;\n",
       "    }\n",
       "\n",
       "    .dataframe thead th {\n",
       "        text-align: right;\n",
       "    }\n",
       "</style>\n",
       "<table border=\"1\" class=\"dataframe\">\n",
       "  <thead>\n",
       "    <tr style=\"text-align: right;\">\n",
       "      <th></th>\n",
       "      <th>ID</th>\n",
       "      <th>Text</th>\n",
       "      <th>Date</th>\n",
       "      <th>Author ID</th>\n",
       "      <th>Author Name</th>\n",
       "      <th>Author Username</th>\n",
       "      <th>Retweets</th>\n",
       "      <th>Replies</th>\n",
       "      <th>Likes</th>\n",
       "      <th>Quotes</th>\n",
       "    </tr>\n",
       "  </thead>\n",
       "  <tbody>\n",
       "    <tr>\n",
       "      <th>0</th>\n",
       "      <td>1659514560200470559</td>\n",
       "      <td>Ayer visitamos a los alumnos de @TheBridge_Tec...</td>\n",
       "      <td>2023-05-19</td>\n",
       "      <td>987047282</td>\n",
       "      <td>A3Sec</td>\n",
       "      <td>a3sec</td>\n",
       "      <td>1</td>\n",
       "      <td>0</td>\n",
       "      <td>3</td>\n",
       "      <td>1</td>\n",
       "    </tr>\n",
       "    <tr>\n",
       "      <th>1</th>\n",
       "      <td>1659136842854219776</td>\n",
       "      <td>¿Qué hacían nuestros alumni antes del #bootcam...</td>\n",
       "      <td>2023-05-18</td>\n",
       "      <td>1162694149956603904</td>\n",
       "      <td>The Bridge</td>\n",
       "      <td>TheBridge_Tech</td>\n",
       "      <td>0</td>\n",
       "      <td>0</td>\n",
       "      <td>0</td>\n",
       "      <td>0</td>\n",
       "    </tr>\n",
       "    <tr>\n",
       "      <th>2</th>\n",
       "      <td>1658825158994403329</td>\n",
       "      <td>#MLMonitoring and #Observability, mar, 23 may ...</td>\n",
       "      <td>2023-05-17</td>\n",
       "      <td>41545659</td>\n",
       "      <td>Mario Lopez de Avila</td>\n",
       "      <td>nodosenlared</td>\n",
       "      <td>1</td>\n",
       "      <td>0</td>\n",
       "      <td>3</td>\n",
       "      <td>0</td>\n",
       "    </tr>\n",
       "    <tr>\n",
       "      <th>3</th>\n",
       "      <td>1658791064306688002</td>\n",
       "      <td>Nos colamos en el campus de #Bilbao para descu...</td>\n",
       "      <td>2023-05-17</td>\n",
       "      <td>1162694149956603904</td>\n",
       "      <td>The Bridge</td>\n",
       "      <td>TheBridge_Tech</td>\n",
       "      <td>1</td>\n",
       "      <td>0</td>\n",
       "      <td>2</td>\n",
       "      <td>0</td>\n",
       "    </tr>\n",
       "    <tr>\n",
       "      <th>4</th>\n",
       "      <td>1658430987368386566</td>\n",
       "      <td>Así es el #bootcamp de #UXUIProductDesign que ...</td>\n",
       "      <td>2023-05-16</td>\n",
       "      <td>1162694149956603904</td>\n",
       "      <td>The Bridge</td>\n",
       "      <td>TheBridge_Tech</td>\n",
       "      <td>1</td>\n",
       "      <td>0</td>\n",
       "      <td>3</td>\n",
       "      <td>0</td>\n",
       "    </tr>\n",
       "    <tr>\n",
       "      <th>...</th>\n",
       "      <td>...</td>\n",
       "      <td>...</td>\n",
       "      <td>...</td>\n",
       "      <td>...</td>\n",
       "      <td>...</td>\n",
       "      <td>...</td>\n",
       "      <td>...</td>\n",
       "      <td>...</td>\n",
       "      <td>...</td>\n",
       "      <td>...</td>\n",
       "    </tr>\n",
       "    <tr>\n",
       "      <th>138</th>\n",
       "      <td>1625828554691805187</td>\n",
       "      <td>¿Los colores tienen género?¿podemos hacer una ...</td>\n",
       "      <td>2023-02-15</td>\n",
       "      <td>1162694149956603904</td>\n",
       "      <td>The Bridge</td>\n",
       "      <td>TheBridge_Tech</td>\n",
       "      <td>2</td>\n",
       "      <td>1</td>\n",
       "      <td>2</td>\n",
       "      <td>0</td>\n",
       "    </tr>\n",
       "    <tr>\n",
       "      <th>139</th>\n",
       "      <td>1625825721862987777</td>\n",
       "      <td>@BitcoinTuesday_ ¡Un placer!</td>\n",
       "      <td>2023-02-15</td>\n",
       "      <td>1162694149956603904</td>\n",
       "      <td>The Bridge</td>\n",
       "      <td>TheBridge_Tech</td>\n",
       "      <td>0</td>\n",
       "      <td>0</td>\n",
       "      <td>2</td>\n",
       "      <td>0</td>\n",
       "    </tr>\n",
       "    <tr>\n",
       "      <th>140</th>\n",
       "      <td>1625813763751305216</td>\n",
       "      <td>Gracias a nuestros amigos @TheBridge_Tech por ...</td>\n",
       "      <td>2023-02-15</td>\n",
       "      <td>1530194743786881024</td>\n",
       "      <td>Bitcoin Tuesday</td>\n",
       "      <td>BitcoinTuesday_</td>\n",
       "      <td>2</td>\n",
       "      <td>1</td>\n",
       "      <td>10</td>\n",
       "      <td>0</td>\n",
       "    </tr>\n",
       "    <tr>\n",
       "      <th>141</th>\n",
       "      <td>1625165984414695426</td>\n",
       "      <td>¡Nos vamos al WorkinLan Workshop en Bilbao jun...</td>\n",
       "      <td>2023-02-13</td>\n",
       "      <td>1162694149956603904</td>\n",
       "      <td>The Bridge</td>\n",
       "      <td>TheBridge_Tech</td>\n",
       "      <td>2</td>\n",
       "      <td>0</td>\n",
       "      <td>1</td>\n",
       "      <td>0</td>\n",
       "    </tr>\n",
       "    <tr>\n",
       "      <th>142</th>\n",
       "      <td>1625126689150738438</td>\n",
       "      <td>Les compartimos un mini resumen del 1º encuent...</td>\n",
       "      <td>2023-02-13</td>\n",
       "      <td>4899284631</td>\n",
       "      <td>My Tech Plan</td>\n",
       "      <td>my_tech_plan</td>\n",
       "      <td>0</td>\n",
       "      <td>0</td>\n",
       "      <td>2</td>\n",
       "      <td>1</td>\n",
       "    </tr>\n",
       "  </tbody>\n",
       "</table>\n",
       "<p>143 rows × 10 columns</p>\n",
       "</div>"
      ],
      "text/plain": [
       "                      ID                                               Text   \n",
       "0    1659514560200470559  Ayer visitamos a los alumnos de @TheBridge_Tec...  \\\n",
       "1    1659136842854219776  ¿Qué hacían nuestros alumni antes del #bootcam...   \n",
       "2    1658825158994403329  #MLMonitoring and #Observability, mar, 23 may ...   \n",
       "3    1658791064306688002  Nos colamos en el campus de #Bilbao para descu...   \n",
       "4    1658430987368386566  Así es el #bootcamp de #UXUIProductDesign que ...   \n",
       "..                   ...                                                ...   \n",
       "138  1625828554691805187  ¿Los colores tienen género?¿podemos hacer una ...   \n",
       "139  1625825721862987777                       @BitcoinTuesday_ ¡Un placer!   \n",
       "140  1625813763751305216  Gracias a nuestros amigos @TheBridge_Tech por ...   \n",
       "141  1625165984414695426  ¡Nos vamos al WorkinLan Workshop en Bilbao jun...   \n",
       "142  1625126689150738438  Les compartimos un mini resumen del 1º encuent...   \n",
       "\n",
       "           Date            Author ID           Author Name  Author Username   \n",
       "0    2023-05-19            987047282                 A3Sec            a3sec  \\\n",
       "1    2023-05-18  1162694149956603904            The Bridge   TheBridge_Tech   \n",
       "2    2023-05-17             41545659  Mario Lopez de Avila     nodosenlared   \n",
       "3    2023-05-17  1162694149956603904            The Bridge   TheBridge_Tech   \n",
       "4    2023-05-16  1162694149956603904            The Bridge   TheBridge_Tech   \n",
       "..          ...                  ...                   ...              ...   \n",
       "138  2023-02-15  1162694149956603904            The Bridge   TheBridge_Tech   \n",
       "139  2023-02-15  1162694149956603904            The Bridge   TheBridge_Tech   \n",
       "140  2023-02-15  1530194743786881024       Bitcoin Tuesday  BitcoinTuesday_   \n",
       "141  2023-02-13  1162694149956603904            The Bridge   TheBridge_Tech   \n",
       "142  2023-02-13           4899284631          My Tech Plan     my_tech_plan   \n",
       "\n",
       "     Retweets  Replies  Likes  Quotes  \n",
       "0           1        0      3       1  \n",
       "1           0        0      0       0  \n",
       "2           1        0      3       0  \n",
       "3           1        0      2       0  \n",
       "4           1        0      3       0  \n",
       "..        ...      ...    ...     ...  \n",
       "138         2        1      2       0  \n",
       "139         0        0      2       0  \n",
       "140         2        1     10       0  \n",
       "141         2        0      1       0  \n",
       "142         0        0      2       1  \n",
       "\n",
       "[143 rows x 10 columns]"
      ]
     },
     "execution_count": 3,
     "metadata": {},
     "output_type": "execute_result"
    }
   ],
   "source": [
    "tweets_df"
   ]
  },
  {
   "cell_type": "code",
   "execution_count": 4,
   "metadata": {},
   "outputs": [],
   "source": [
    "tabla_tweets=tweets_df[[\"ID\",\"Text\",\"Date\",\"Author ID\",\"Retweets\",\"Replies\",\"Likes\",\"Quotes\"]]\n",
    "tabla_usuarios=tweets_df[[\"Author ID\",\"Author Name\",\"Author Username\"]]"
   ]
  },
  {
   "cell_type": "code",
   "execution_count": 7,
   "metadata": {},
   "outputs": [
    {
     "name": "stdout",
     "output_type": "stream",
     "text": [
      "               Author ID           Author Name  Author Username\n",
      "0              987047282                 A3Sec            a3sec\n",
      "1    1162694149956603904            The Bridge   TheBridge_Tech\n",
      "2               41545659  Mario Lopez de Avila     nodosenlared\n",
      "3    1162694149956603904            The Bridge   TheBridge_Tech\n",
      "4    1162694149956603904            The Bridge   TheBridge_Tech\n",
      "..                   ...                   ...              ...\n",
      "138  1162694149956603904            The Bridge   TheBridge_Tech\n",
      "139  1162694149956603904            The Bridge   TheBridge_Tech\n",
      "140  1530194743786881024       Bitcoin Tuesday  BitcoinTuesday_\n",
      "141  1162694149956603904            The Bridge   TheBridge_Tech\n",
      "142           4899284631          My Tech Plan     my_tech_plan\n",
      "\n",
      "[143 rows x 3 columns]\n",
      "                      ID                                               Text   \n",
      "0    1659514560200470559  Ayer visitamos a los alumnos de @TheBridge_Tec...  \\\n",
      "1    1659136842854219776  ¿Qué hacían nuestros alumni antes del #bootcam...   \n",
      "2    1658825158994403329  #MLMonitoring and #Observability, mar, 23 may ...   \n",
      "3    1658791064306688002  Nos colamos en el campus de #Bilbao para descu...   \n",
      "4    1658430987368386566  Así es el #bootcamp de #UXUIProductDesign que ...   \n",
      "..                   ...                                                ...   \n",
      "138  1625828554691805187  ¿Los colores tienen género?¿podemos hacer una ...   \n",
      "139  1625825721862987777                       @BitcoinTuesday_ ¡Un placer!   \n",
      "140  1625813763751305216  Gracias a nuestros amigos @TheBridge_Tech por ...   \n",
      "141  1625165984414695426  ¡Nos vamos al WorkinLan Workshop en Bilbao jun...   \n",
      "142  1625126689150738438  Les compartimos un mini resumen del 1º encuent...   \n",
      "\n",
      "           Date            Author ID  Retweets  Replies  Likes  Quotes  \n",
      "0    2023-05-19            987047282         1        0      3       1  \n",
      "1    2023-05-18  1162694149956603904         0        0      0       0  \n",
      "2    2023-05-17             41545659         1        0      3       0  \n",
      "3    2023-05-17  1162694149956603904         1        0      2       0  \n",
      "4    2023-05-16  1162694149956603904         1        0      3       0  \n",
      "..          ...                  ...       ...      ...    ...     ...  \n",
      "138  2023-02-15  1162694149956603904         2        1      2       0  \n",
      "139  2023-02-15  1162694149956603904         0        0      2       0  \n",
      "140  2023-02-15  1530194743786881024         2        1     10       0  \n",
      "141  2023-02-13  1162694149956603904         2        0      1       0  \n",
      "142  2023-02-13           4899284631         0        0      2       1  \n",
      "\n",
      "[143 rows x 8 columns]\n"
     ]
    }
   ],
   "source": [
    "print(tabla_usuarios)\n",
    "print(tabla_tweets)"
   ]
  },
  {
   "cell_type": "code",
   "execution_count": 8,
   "metadata": {},
   "outputs": [],
   "source": [
    "connection = sqlite3.connect('tweets_thebridge.db')"
   ]
  },
  {
   "cell_type": "code",
   "execution_count": 9,
   "metadata": {},
   "outputs": [
    {
     "data": {
      "text/plain": [
       "143"
      ]
     },
     "execution_count": 9,
     "metadata": {},
     "output_type": "execute_result"
    }
   ],
   "source": [
    "tabla_tweets.to_sql(name=\"tweets\", con=connection, index=False)\n",
    "tabla_usuarios.to_sql(name=\"users\", con=connection, index=False)"
   ]
  },
  {
   "cell_type": "code",
   "execution_count": 10,
   "metadata": {},
   "outputs": [
    {
     "name": "stdout",
     "output_type": "stream",
     "text": [
      "[(1659514560200470559, 'Ayer visitamos a los alumnos de @TheBridge_Tech  para charlar con ellos sobre las capacidades en prevención y detección de #ciberseguridad de @a3sec  y compartir experiencias que les puedan ayudar en su incorporación al mundo laboral.\\n¡Gracias por la invitación! https://t.co/r1YVULrSOl', '2023-05-19', 987047282, 1, 0, 3, 1), (1659136842854219776, '¿Qué hacían nuestros alumni antes del #bootcamp?\\n\\nAsí fue el Open Day de #Sevilla donde compartieron su experiencia, dudas, miedos y sus ganas de hacer un cambio en su carrera 🚀\\n\\n¿Ready para el cambio?\\n\\n¡Últimas plazas!👉https://t.co/4DRdoJhQqv\\n\\n@camaradesevilla @ENCamaraSevilla https://t.co/6VJRsx67Fx', '2023-05-18', 1162694149956603904, 0, 0, 0, 0), (1658825158994403329, '#MLMonitoring and #Observability, mar, 23 may 2023, 18:30   | Meetup https://t.co/VEq7ZN3Plr\\n¡2º encuentro de la @mlopscommunity en @TheBridge_Tech ! Acompáñanos para aprender de nuestros amigos de @wayflyerapp @wallapop @argilla_io Registro gratuito, plazas limitadas. https://t.co/Zw5bKGP0av', '2023-05-17', 41545659, 1, 0, 3, 0), (1658791064306688002, 'Nos colamos en el campus de #Bilbao para descubrir más sobre #BBKBootcampsPoweredByTheBridge 😍\\n\\nEcha un 👀 a las clases y al buen ambiente lleno de código javascript, diseños en figma y librerías de python 🐍\\n\\n¡Nueva edición 22 de mayo! ➡https://t.co/dUXyyvMX8F\\n@BBK_eus https://t.co/YoZy5dGASo', '2023-05-17', 1162694149956603904, 1, 0, 2, 0), (1658430987368386566, 'Así es el\\xa0#bootcamp\\xa0de\\xa0#UXUIProductDesign\\xa0que impartimos junto a\\xa0@EDEMempresarios en #Valencia.\\n\\nMiriam, Lead Instructor, nos cuenta qué se enseña en el programa de #uxui y qué salidas profesionales tiene este campo 🚀\\n\\nPróxima edición 22 de mayo ➡https://t.co/kqfZqnITa1 https://t.co/HLJKIpkMta', '2023-05-16', 1162694149956603904, 1, 0, 3, 0), (1658211678901641230, 'Y finalmente, como nos decían en casa, es de bien nacido ser agradecido, y mucho más con nuestros patrocinadores y colaboradores 🤗🤗. Gracias a @TheBridge_Tech @epsUPO @pablodeolavide por ayudarnos, de una manera u otra, para que esta actividad salga adelante!! https://t.co/m8IeCD9prx', '2023-05-15', 1585726199485140993, 0, 0, 1, 0), (1658211673637896192, 'Si todavía no has pillado las entradas (que son gratis oye, que es posible gracias a partners como @TheBridge_Tech 😎) puedes hacerlo en https://t.co/EeZ3fSC7PP https://t.co/hTvRME7aeR', '2023-05-15', 1585726199485140993, 0, 1, 1, 0), (1658211670831800332, '¡¡Recuerda que todavía siguen las entradas para el II CyberSec Talks!! Dentro breve hilo\\n@TheBridge_Tech @epsUPO @pablodeolavide https://t.co/ua2XS32Iph', '2023-05-15', 1585726199485140993, 4, 1, 4, 1), (1658084463908204546, '#MLMonitoring and #Observability, mar, 23 may 2023, 18:30   | Meetup https://t.co/B0hKnfFg5g\\n¡2º encuentro de la @mlopscommunity en @TheBridge_Tech ! Acompáñanos para aprender de nuestros amigos de @wayflyerapp @wallapop @argilla Registro gratuito, plazas limitadas. https://t.co/t0TiFALbfl', '2023-05-15', 41545659, 3, 0, 2, 1), (1656999477461360643, '¡Nuevos talleres de #Cloud y #CareerReadiness!\\n\\n🔴Los días 17 y 24 de mayo a las 17h.\\n\\nEntradas Cloud👉https://t.co/27WjGw2kiV\\nEntradas Career👉https://t.co/8WtKEuZWWy\\n\\n#freeevents https://t.co/pel5TA4bJC', '2023-05-12', 1162694149956603904, 0, 0, 0, 0), (1656905845605539840, '¡A very special event! Save the date ☺ 24 May at 19h⬇\\n\\n#refugeescode #demoday', '2023-05-12', 1162694149956603904, 1, 0, 2, 0), (1656678972078592006, \"Join our #RefugeesCode Demo Day &amp; networking on 24 May at 19h at @TheBridge_Tech #Madrid!\\n\\nWe're looking for recruiters, tech companies, web designers, MFR supporters &amp; potential students to join us! Students will present final projects\\n\\n➡️Sign up &amp; share! https://t.co/peldbOIhVJ https://t.co/h6OPvToy6A\", '2023-05-11', 3588258623, 5, 1, 5, 3), (1656653806397165579, 'Llega Work in Tech, una iniciativa de INCO Academy con la que @TheBridge_Tech colabora junto a @Googleorg y @coursera.\\n\\nFormación en tecnología dirigida a personas en situación vulnerable.\\n\\n💰Formación 100% financiada.\\n💻Online.\\n💼Career Readiness.\\n\\n Info👉https://t.co/7wflIafygE https://t.co/jCHs3HBRrI', '2023-05-11', 1162694149956603904, 1, 0, 1, 0), (1656309738571964417, '¡Eventazo! Colaboramos de nuevo con @ESOLIUPO en #CyberSecTalks en Sevilla 👏\\n\\nCon una charla sobre #IAs y #DataScience.\\n\\n¡Corre🏃\\u200d♂️ y apúntate!👇', '2023-05-10', 1162694149956603904, 1, 0, 1, 0), (1655857938769092610, '💯 Aprende una profesión de alta empleabilidad y cambia tu futuro con #EDEM y @TheBridge_Tech\\n\\n👉 Desarrollo Web Fullstack\\n👉 Ciberseguridad\\n👉 UX/UI Product Design\\n👉 Data Science\\n\\nAccede a la bolsa de empleo de las dos escuelas con las empresas más 🔝👉 https://t.co/uobTtpP8zo https://t.co/58xhn3Q7xq', '2023-05-09', 570795448, 2, 0, 5, 0), (1655487588881297409, '¡No te lo pierdas! Hablaremos de algoritmos bioinspirados, la revolución de las IAs y netnografía 😍\\n\\n¿No sabes lo que es? Te esperamos ⬇', '2023-05-08', 1162694149956603904, 0, 0, 4, 0), (1654368985578627073, '🎂🎉 ¡Este mes se cumplen 10 años del primer #Betabeers Bilbao! Y lo vamos a celebrar este jueves 11/05 a las 18:30 en @BBK_Kuna  haciendo un remember de los buenos.\\n\\n➡️ ¡Te esperamos! Toda la info aquí: https://t.co/qAHloy69ju\\n\\n@TheBridge_Tech https://t.co/ln345I1xER', '2023-05-05', 2402179123, 1, 0, 2, 1), (1653750445939081221, '¿Quieres saber cómo es el trabajo de un diseñador #uxui? Apúntate al próximo taller en #Bilbao donde veremos por dónde empezar a trabajar para diseñar cualquier producto digital 🤳\\n\\n¡Te esperamos!\\n\\n📅9 de mayo\\n🕐18.30 h\\n📍 BBK Kuna\\n\\nEntradas 👉https://t.co/m6ZwtxJllz\\n\\n#bootcamp https://t.co/9oVj3LGcYu', '2023-05-03', 1162694149956603904, 0, 0, 1, 0), (1653343299749462017, '📅 HOY #OpenDay de los BBK Bootcamps by The Bridge a las 18:30 en @BBK_Kuna Descubrirás en qué consiste un #bootcamp y cómo potenciar exponencialmente tus habilidades digitales, abriendo nuevas posibilidades en tu carrera. @BBK_eus @TheBridge_Tech https://t.co/RXMZwLRT2A', '2023-05-02', 2402179123, 0, 0, 0, 0), (1651861860889550850, '@TheBridge_Tech @EDEMempresarios @EDEM_uni ¿Podrían enviarme información sobre el bootcamp de Data Science? Gracias!!!', '2023-04-28', 1613113784926707712, 0, 1, 0, 0), (1651860309508857856, '¡Nuevos talleres en #Sevilla!\\n\\n💻#DesarrolloWebFullStack Descubre qué es Git y GitHub. Entradas 👉https://t.co/Jo56XJp1za\\n\\n🦾#DataScience ¿Cómo funcionan las IAs Generativas? Entradas 👉https://t.co/pNzL5sDspl\\n\\n¡No te lo pierdas!\\n\\n📅9 y 11 de mayo\\n🕐19.30 h\\n📍 @espacio_RES https://t.co/rIz8PisSPl', '2023-04-28', 1162694149956603904, 2, 0, 2, 0), (1651499442070077445, '🧑\\u200d💻Fórmate en #DataScience, #MarketingDigital, #UXUIProductDesign y #DesarrolloWebFullStack con los #BBKBootcampsPoweredByTheBridge en #Bilbao.\\n\\n4 meses intensivos🚀\\n\\n¡Últimas plazas! Empezamos el 22 mayo.\\n\\nMás info👉 https://t.co/PJVNBK3sB3\\n\\n@bbk_eus @BBKnetwork https://t.co/KA488ZUQ5S', '2023-04-27', 1162694149956603904, 0, 0, 1, 0), (1651263839063752708, 'Mañana tenéis una cita con los datos en @TheBridge_Tech. 👇', '2023-04-26', 20979418, 1, 0, 4, 0), (1651130351685623809, '¿Elecciones y ciencia de datos? La #DataScience tiene mucho que decir en las predicciones y en el funcionamiento de las elecciones.\\n\\nDescúbrelo en nuestro próximo taller ¡Apúntate ya!\\n\\n📅3 mayo\\n🕐17.00 h\\n💻Online\\n\\nEntradas 👉 https://t.co/CeV7kbrSZ0\\n\\n#bootcamp https://t.co/NcxDFMzerf', '2023-04-26', 1162694149956603904, 0, 0, 1, 0), (1650780182624587776, '¡Hola!\\n\\nMientras volvemos a la carga os traemos un curso de parte de nuestro colaborador @TheBridge_Tech  donde podrás aprender los fundamentos de las IAs generativas como son ChatGPT o Dall-E en Sevilla 💃\\n\\nSi estás interesado puedes inscribirte aquí ⬇️: https://t.co/op518wH9Xc', '2023-04-25', 1585726199485140993, 0, 0, 1, 0), (1650520641429200896, 'Así es el #bootcamp de #DataScience que impartimos junto a @EDEMempresarios en Valencia.\\n\\nNos adentramos en clase para ver qué se enseña y qué salidas profesionales tiene este campo 🚀\\n\\n¿Quieres saber más? Próxima edición 2⃣2⃣ de mayo 👉https://t.co/tkBcf3KpAZ\\n\\n@EDEM_uni https://t.co/vGELLOsVib', '2023-04-24', 1162694149956603904, 2, 1, 4, 0), (1649327786740400129, 'El poder de dos escuela concentrado en el 𝐁𝐨𝐨𝐭𝐜𝐚𝐦𝐩 𝐃𝐚𝐭𝐚 𝐒𝐜𝐢𝐞𝐧𝐜𝐞 #EDEMpoweredbyTheBridge.\\n\\n@TheBridge_Tech y #EDEM se unen para ofrecerte formación en tecnología y ciencia de datos que te ayudará a mejorar tu perfil o iniciar tu carrera profesional en esta área. https://t.co/NYckrT99q6', '2023-04-21', 570795448, 0, 1, 2, 0), (1649073654951473153, '@joobid @TheBridge_Tech @aquiestaThai @anabuigues Si, se graba 👌', '2023-04-20', 1003872445, 0, 0, 3, 0), (1649057301603418116, '@PauMugarra @TheBridge_Tech @aquiestaThai @anabuigues ¿Se graba verdad? https://t.co/N0Czd8m2wv', '2023-04-20', 276656109, 0, 1, 1, 0), (1649053835133067267, 'Esta tarde se reune la Comunidad #CPS en @TheBridge_Tech para que @aquiestaThai y @anabuigues nos cuenten como llevan a cabo ellas la experimentación en grandes organizaciones. Muchas ganas de aprender de su experiencia 🤩\\n¡Nos vemos allí!', '2023-04-20', 1003872445, 4, 1, 18, 0), (1648989956138729473, '🤔¿Qué es ChatGPT?\\n\\n🤔¿Cómo se le puede sacar partido para hacer marketing?\\n\\nLa respuesta en la masterclass de BBK Bootcamps sobre Marketing Digital.\\n\\n@BBK_eus \\n@TheBridge_Tech\\n\\n📆 22/04/2023\\n📍BBK Kuna.\\n⏰ 18:00 a 19:00\\n\\nInfo e inscripciones en: https://t.co/NuzPVmXqQy', '2023-04-20', 823470817963032576, 1, 0, 3, 0), (1648640132486930435, '¡Nueva #Masterclass de #MarketingDigital en Bilbao!🙌\\n\\nAprende cómo podemos usar #chatgpt y otras inteligencias artificiales al servicio del marketing 🦾 ¡Te esperamos!\\n\\n📅27 abril\\n🕐18.00 h\\n📍BBK Kuna @BBK_eus\\n\\n¡Apúntate!👉https://t.co/KfU4450nJQ\\n\\n#bootcamp #ai #mkt #data https://t.co/qwfZlr9fP5', '2023-04-19', 1162694149956603904, 3, 0, 3, 0), (1648370663604862995, '@hello_google @TheBridge_Tech Gracias Iñaki, allá nos vemos https://t.co/Ni6lhlZqhA', '2023-04-18', 192329549, 0, 0, 1, 0), (1648367755945558018, '@vizca75 @TheBridge_Tech Acabo de publicar...', '2023-04-18', 20979418, 0, 1, 1, 0), (1648367115798294528, '@hello_google @TheBridge_Tech ¿nada todavía?', '2023-04-18', 192329549, 0, 1, 0, 0), (1648338097422180353, '¿Por qué no probar si la tecnología es lo tuyo?  \\nPróximos talleres en Valencia:\\n\\n🔵#DesarrolloWebFullStack Entradas👉 https://t.co/gwE2cAAcd4 \\n📅26 abril\\n🕐18.00 h\\n📍EDEM\\n\\n🔵#Ciberseguridad Entradas👉 https://t.co/YhlMwXe5qd \\n📅3 mayo\\n🕐18.00 h\\n📍EDEM\\n\\n¡Te esperamos! \\n\\n#bootcamp https://t.co/kgfcfLAUBA', '2023-04-18', 1162694149956603904, 3, 0, 3, 0), (1648262933615374337, '¡Ven al #OpenDay en Sevilla!\\n\\nAcércate a conocer la experiencia de alumni que decidieron desarrollar su carrera con un bootcamp en #DataScience y #DesarrolloWebFullStack ¿Te unes?\\n\\n📅4 mayo\\n🕐19.30 h\\n📍@ENCamaraSevilla\\n\\nEntradas 👉 https://t.co/pNskU3CnTV\\n\\n#bootcamp https://t.co/mlXHF9kTi1', '2023-04-18', 1162694149956603904, 5, 0, 3, 0), (1648235385196097536, '@hello_google @TheBridge_Tech ¿Queda mucho?\\n😂😂😂 https://t.co/Gpq93REqnR', '2023-04-18', 40046861, 0, 0, 0, 0), (1648228189926244352, '@carlosmdh @TheBridge_Tech No está abierto.', '2023-04-18', 20979418, 0, 1, 0, 0), (1648225396674949121, '@hello_google @TheBridge_Tech Pide pass\\n¿?', '2023-04-18', 40046861, 0, 1, 1, 0), (1648216463319212033, '@hello_google @TheBridge_Tech Esperando la apertura', '2023-04-18', 1268490708945698817, 0, 0, 1, 0), (1648051289161453589, '@hello_google @TheBridge_Tech No me lo pierdo 😁', '2023-04-17', 890890468988473346, 0, 0, 1, 0), (1648038694387871801, 'Untagged Day - El evento de analítica digital al que a mí me gustaría asistir.\\n\\n27 de abril  a partir de las 18:30.\\nEn @TheBridge_Tech Madrid.\\nEntrada gratuita (plazas limitadas).\\n\\n⚠️Mañana abrimos inscripciones. https://t.co/oTs9aotfbi', '2023-04-17', 20979418, 3, 4, 19, 0), (1647957059327913988, '¿Por dónde empezar cuando ideamos un producto digital?🤳En el próximo taller de #uxui descubriremos oportunidades de negocio desde el journey map del usuario, sus pains y gains ¿Te animas?\\n\\n📅26 abril\\n🕐17 h\\n💻Online\\n\\nApúntate ya 👉 https://t.co/A1sdninOzw\\n\\n#diseño #bootcamp https://t.co/gudzKSn2S9', '2023-04-17', 1162694149956603904, 0, 0, 0, 0), (1646531536232275968, '¿No conoces el programa #Cyberskills? Formación en #ciberseguridad para personas con discapacidad. 100% becada, online e impulsada por @INCIBE y @FUniversia. ¡Entérate de todo en la próxima sesión informativa!\\n\\n📅25 abril\\n🕐18 h\\n💻Online\\n\\nApúntate ya 👉 https://t.co/Pe8iDoVlps https://t.co/eofM4cNXJk', '2023-04-13', 1162694149956603904, 1, 0, 1, 0), (1646069787733241857, 'Ayer fui a mi primer evento presencial de #Bitcoin en Madrid\\n\\nFue un placer conectar con personas con inquietudes e intereses similares\\n\\nSin duda me sentí la persona más tonta de la sala, pero supongo que es una buena señal 😂🤟🏼\\n\\n@TheBridge_Tech https://t.co/HVnjMUeK4v', '2023-04-12', 710051187001843712, 0, 0, 5, 0), (1646060405096079360, '¡Ven al #OpenDay en Bilbao!\\n\\nConoce todo sobre los bootcamps en #DataScience #MarketingDigital #DesarrolloWebFullStack y #UXUIProductDesign de @bbk y @thebridge y tómate unas 🍻 con amigxs ¿Te apuntas?\\n\\n📅2 mayo\\n🕐18.30 h\\n📍BBK Kuna @BBK_eus\\n\\nEntradas 👉 https://t.co/D9ioexuAtg https://t.co/GeXwrYwHYm', '2023-04-12', 1162694149956603904, 2, 0, 4, 0), (1645805777561747459, '¡Volvemos con el taller de #OSINT! Descubre cómo a través de fuentes abiertas podemos recopilar un montón de información 🧑\\u200d💻\\n\\n📅19 abril\\n🕐17 h\\n💻Online\\n\\nApúntate ya 👉 https://t.co/F8k9okzubv\\n\\n#cyber #bootcamp https://t.co/xZQAWz8GmF', '2023-04-11', 1162694149956603904, 1, 0, 2, 0), (1645423580790792194, '@alexaom6_ @TheBridge_Tech @dev7ba @GaboHBeaumont @kilrau @decentralized_b @olya_borderless Vaya qué raro! Sí claro que puedes ir igual, a las 19:00 en The Bridge!', '2023-04-10', 998353386, 0, 0, 1, 0), (1645411269464162305, '@libertariadora @TheBridge_Tech @dev7ba @GaboHBeaumont @kilrau @decentralized_b @olya_borderless Hola Pat! Por algún motivo no me deja registrarme, puedo asistir de todos modos?', '2023-04-10', 710051187001843712, 0, 1, 0, 0), (1645317508843425793, '@decentralized_b @TheBridge_Tech @dev7ba @GaboHBeaumont @kilrau @libertariadora @olya_borderless Wow 👏👏👏', '2023-04-10', 1355885838991843328, 0, 0, 1, 0), (1645201576217157637, 'Para reactivarse!!!\\nTenemos Meetup este martes 11 de abril a las 19:00 en @TheBridge_Tech\\n\\n@dev7ba nos hablará sobre la mempool!!\\nCharla para todo el mundo, sepas o no sobre #Bitcoin \\n\\n@GaboHBeaumont @kilrau @libertariadora @olya_borderless\\nhttps://t.co/bHzpDduIRo\\n\\nSe agradece RT', '2023-04-09', 1207228796593745920, 25, 3, 39, 4), (1643141994565312513, '📢  Nuestras empresas asociadas y su personal podrán beneficiarse de un descuento del 20% para la realización de  #formación en #ciberseguridad ofrecido por @TheBridge_Tech\\n\\nToda la info:\\n\\nhttps://t.co/QiGiyXkih2\\n\\n#pyme #empresas #madrid https://t.co/7s2x7qf81f', '2023-04-04', 1407291884901482496, 1, 0, 0, 0), (1642900150455500802, '¡No te pierdas el #hackathon de @pablodeolavide! \\nReto ⚔ Ideas innovadoras para alcanzar los Objetivos de Desarrollo Sostenible.\\nPremios🏆de 800€ y una masterclass de diseño UX/UI a cargo de @TheBridge_Tech🤳\\n\\n¿Estás en #Sevilla? \\nApúntate👉 https://t.co/EGXnMY9ZV5 https://t.co/o428HUydXq', '2023-04-03', 1162694149956603904, 1, 0, 3, 0), (1642875395090309123, '@TheBridge_Tech @milmadrid_ Y si te lo perdiste, puedes verlo aqui: https://t.co/1WZTjtRSJQ 🚀', '2023-04-03', 4899284631, 0, 0, 0, 0), (1642864779583709188, 'Os compartimos un mini resumen del segundo encuentro de #reinventadxs.\\n\\nPronto tendremos nueva fecha para la tercera edición 🔥\\n\\nNo te lo pierdas!\\n\\nGracias a @thebridge_tech y el @milmadrid_ por hacerlo posible!\\n\\n#tech #mytechplan #reinventarse #españa #empleoit #empleo https://t.co/jACoxZpYdg', '2023-04-03', 4899284631, 0, 1, 3, 0), (1642101599693598720, 'Próximo Meetup de Bitcoin el 11 de abril a las 19:00 en @TheBridge_Tech. Esta vez @dev7ba nos hablará sobre la mempool a fondo! Charla para todo el mundo, sepas o no sobre #Bitcoin @GaboHBeaumont @kilrau @decentralized_b @olya_borderless \\n\\nhttps://t.co/IaGuVi8I2P', '2023-04-01', 998353386, 6, 3, 16, 0), (1641473677043662850, '📢 Únete a la 2ª edición de #Reinventadxs 💫, organizado por @my_tech_plan y @TheBridge_Tech y conoce las historias de reinvención al sector #Digital de Alexandra Jiménez, Concha Asensio y Moisés Rodríguez. \\n\\n¡No te lo pierdas! 🔴 En directo 👉 https://t.co/aCc9D9hDKe https://t.co/8dXa3HxMfY', '2023-03-30', 1488155071053504522, 3, 0, 2, 0), (1641425041413017600, 'La primera aceleradora de Talento Digital se llama @TheBridge_Tech  y facilitan el acceso a una carrera profesional en el ámbito digital. 🧐Mira sus #bootcamps en el enlace. \\n\\n👉 Para impulsar tu carrera.\\n\\n👉 Para captar talento.\\n\\nhttps://t.co/i7FPO462oN', '2023-03-30', 2601978874, 1, 0, 0, 0), (1641088686967214080, '¿Por qué formarse en Diseño de Producto Digital UX/UI?\\n\\n🤳El perfil especialista en #UXUI es uno de los más demandados. Optimizar recursos y centrarse en las necesidades del usuario/cliente es clave.\\n\\n¡Matricúlate ahora con un precio especial!\\nInfo ➡https://t.co/lAQlSLWq4B https://t.co/WWBXJDTceF', '2023-03-29', 1162694149956603904, 0, 0, 0, 0), (1640984134012006401, 'La primera aceleradora de Talento Digital se llama @TheBridge_Tech  y facilitan el acceso a una carrera profesional en el ámbito digital. 🧐Mira sus #bootcamps en el enlace. \\n\\n👉 Para impulsar tu carrera.\\n\\n👉 Para captar talento.\\n\\nhttps://t.co/i7FPO45uzf', '2023-03-29', 2601978874, 0, 0, 0, 0), (1640762788694962176, '@DatabeerSVQ @sngular @opensistemas @TheBridge_Tech @SVQ_tech Mentira!!', '2023-03-28', 561463549, 0, 0, 0, 0), (1640759403455426560, '¡En 5 minutos abrimos las puertas de @sngular para celebrar una nueva edición de #DatabeerSVQ, y ya van 19! Gracias a @opensistemas, @sngular y @TheBridge_Tech por su colaboración. Y a toda la comunidad #dataholic @SVQ_tech por no fallarnos nunca. ¡Empezamos! https://t.co/EJRndyBnxz', '2023-03-28', 936539844079218688, 0, 1, 2, 0), (1640743327145291777, 'El jueves pasado disfrutamos mucho de la edición número 19 de #DatabeerSVQ. Gracias a quienes se atrevieron a compartir su ponencia, a quienes acudieron a escucharlas y a nuestros colaboradores @opensistemas @sngular @TheBridge_Tech\\n\\n¡Hasta la próxima (que será la 20)! @SVQ_tech', '2023-03-28', 936539844079218688, 2, 0, 4, 0), (1640657178745864192, 'Un placer participar en #DatabeerSVQ19 que se organizó en las oficinas @sngular  Gracias a @DatabeerSVQ por contar con nosotros y a los ponentes 🍻\\n\\n¡Nos vemos en la próxima!\\n#digitaltalent #databeers #datascience https://t.co/VjsYHhFabE', '2023-03-28', 1162694149956603904, 0, 0, 2, 0), (1640621997737795584, 'La primera aceleradora de Talento Digital se llama @TheBridge_Tech  y facilitan el acceso a una carrera profesional en el ámbito digital. 🧐Mira sus #bootcamps en el enlace. \\n\\n👉 Para impulsar tu carrera.\\n\\n👉 Para captar talento.\\n\\nhttps://t.co/i7FPO462oN', '2023-03-28', 2601978874, 0, 0, 1, 0), (1640373919403110403, '¿Por qué Cloud &amp; DevOps?\\n\\n☁El perfil especialista en Cloud &amp; DevOps es de los más demandados, un buen complemento para personas que vienen del sector de la informática, ingeniería y desarrollo web.\\n\\n¡Matricúlate ahora y accede a un precio especial!\\nInfo ➡https://t.co/1RulLxDXfH https://t.co/IB9cn7ufUy', '2023-03-27', 1162694149956603904, 0, 0, 1, 0), (1640259299371884545, 'La primera aceleradora de Talento Digital se llama @TheBridge_Tech  y facilitan el acceso a una carrera profesional en el ámbito digital. 🧐Mira sus #bootcamps en el enlace. \\n\\n👉 Para impulsar tu carrera.\\n\\n👉 Para captar talento.\\n\\nhttps://t.co/i7FPO45uzf', '2023-03-27', 2601978874, 0, 0, 1, 0), (1638948723483975680, '¡Que ya estamos preparando la cervecita fresquita para #DatabeerSVQ19 @SVQ_tech! Y qué buenas ponencias programadas. Nos vemos a las 19.00 en @sngular. Gracias a @opensistemas, @sngular y @TheBridge_Tech por su colaboración. https://t.co/lvrqdxNNJp', '2023-03-23', 936539844079218688, 3, 0, 3, 0), (1638830878112489473, '¡Arrancando motores para la próxima edición de #bootcamps en #Valencia! 🚀\\n\\n¿Estás pensando en dar el salto al sector digital? ¡Te invitamos al Open Day con @EDEM_uni!\\n\\n📅 4 abril\\n⏰ 19 h\\n📍 Campus de EDEM en La Marina de Valencia.\\n\\nEntradas 🎟 https://t.co/qlBJ8WBsWG https://t.co/yodoZSs6Oy', '2023-03-23', 1162694149956603904, 2, 0, 4, 0), (1638825295326351360, '¡Lanzamos las Becas 4INDUS Talent 🧑\\u200d💻 para ingenieros del @COIIM! Una buena forma de actualizar conocimientos o especializarse en áreas como #DataScience #Ciberseguridad o #DesarrolloWebFullStack, entre otros. \\n\\nSi eres del @COIIM, solicita la tuya 👉https://t.co/hO6buOM1SU https://t.co/NyNDqpKvAp', '2023-03-23', 1162694149956603904, 0, 0, 1, 0), (1638578785963606016, '¡Qué ganas de #DatabeerSVQ19! Ya está aquí a primavera trompetera y celebramos con 🍻 y datos. Recuerda, mañana jueves 23 a las 19.00 en @sngular Sevilla. ¡No te lo pierdas! @SVQ_tech \\n\\nCon la colaboración de @opensistemas @sngular @TheBridge_Tech \\n\\nhttps://t.co/fK5QNZAbUU', '2023-03-22', 936539844079218688, 3, 0, 7, 1), (1638212188832759808, '#Dataholics, este jueves #DatabeerSVQ19, con cartelón de ponentes y cervezas frescas🍻👩\\u200d💻. Si te has inscrito y no puedes acudir, libera tu plaza, alguien te lo agradecerá @SVQ_tech \\n\\n📅Jueves 23, 19.00\\n📍@sngular Sevilla\\n\\nColaboración de @opensistemas @sngular @TheBridge_Tech', '2023-03-21', 936539844079218688, 5, 0, 7, 0), (1637863879853105187, '📢¡Próximo Open Day en Madrid!\\xa0\\n\\nConoce cómo es la experiencia de vivir un #bootcamp de la mano de nuestros alumni 🤗\\n\\n¡Ven con un amigx y tómate algo 🍻 !\\n📅 28 marzo\\n⏰ 18h\\n🏰 Paseo de Recoletos 15, Madrid.\\n\\nEntradas 🎟 https://t.co/FKHB02bNUp https://t.co/NGg8QIueHw', '2023-03-20', 1162694149956603904, 0, 0, 0, 0), (1637853306037886978, 'Este viernes participamos en el encuentro de Silicon @DrinkaboutSVQ\\xa0 que organiza @SevillaUP ¡tenemos muchas ganas de este #networking con emprendedores, desarrolladores, publicistas, diseñadores...!\\n\\nSi estás por Sevilla ¡No te lo pierdas!👇\\n\\nhttps://t.co/O1kUKVAVn9', '2023-03-20', 1162694149956603904, 2, 0, 2, 0), (1637737715113361409, 'GPTs are GPTs: An Early Look at the Labor Market Impact Potential of Large Language Models #recommended\\n @justohidalgo @Delachica CC @TheBridge_Tech\\nhttps://t.co/xjqpQFaXm9', '2023-03-20', 41545659, 0, 1, 3, 0), (1636774407862353920, '#Dataholic, ¿conoces a nuestros colaboradores?\\n@TheBridge_Tech\\n desarrolla programas formativos intensivos y prácticos para dominar las claves de la nueva era tecnológica.\\nY se encarga de ayudarnos a abrir las🍻en #Databeers\\n¡Conócelos! @SVQ_tech \\nhttps://t.co/7TUu1MweE3', '2023-03-17', 936539844079218688, 1, 0, 2, 0), (1636716572793266176, 'Se te puede olvidar el deadline de tu proyecto, algún ( ) mientras codeas o cambiar la contraseña del wifi, pero jamás felicitar a tu padre 🥳 ¡Buen finde y a recargar 🔋! https://t.co/jaZFJ3zuM5', '2023-03-17', 1162694149956603904, 0, 0, 0, 0), (1636439397666045960, 'Hoy la magia estaba aquí, con @snowded en Madrid. #strategy #change #complexity gracias a @TheBridge_Tech. Enhorabuena!', '2023-03-16', 20905187, 3, 0, 11, 0), (1636422407480066050, '@jrtexeira, co-fundador de @MagmaSevilla, nos hablará de diseño ético de productos digitales 📲📶\\n¡No te lo pierdas! #dataholics @SVQ_tech \\n\\n📅Jueves 23, 19.00\\n📍@sngular\\n👇https://t.co/fK5QNZzE5m\\n\\nColaboran @opensistemas @sngular @TheBridge_Tech https://t.co/bVpSlmKTOH', '2023-03-16', 936539844079218688, 2, 0, 3, 0), (1636421459831603216, 'Pedro Albarracín, Data Scientist, nos hablará de detección de fraude con tarjetas de crédito utilizando datos sintéticos💳📶\\n¡No te lo pierdas! #dataholics @SVQ_tech \\n\\n📅Jueves 23, 19.00\\n📍@sngular\\n👇https://t.co/fK5QNZzE5m\\n\\nColaboran @opensistemas @sngular @TheBridge_Tech https://t.co/TXmwaRHZZI', '2023-03-16', 936539844079218688, 3, 0, 7, 0), (1636420575735296000, 'Sergio Soto, Software Engineer, nos hablará de gestión de datos en una campaña de recogida de fondos para @andalugeeks👕📶\\n¡No te lo pierdas! #dataholics @SVQ_tech \\n\\n📅Jueves 23, 19.00\\n📍@sngular Sevilla\\n👇https://t.co/fK5QNZzE5m\\n\\nColaboran @opensistemas @sngular @TheBridge_Tech https://t.co/7XDDpB6s8I', '2023-03-16', 936539844079218688, 5, 0, 5, 0), (1636419888754442242, 'Emilio Fuentes, analista en CNMC, nos contará cómo se informan los precios de las gasolineras ⛽️📶\\n¡No te lo pierdas! #dataholics @SVQ_tech \\n\\n📅Jueves 23, 19.00\\n📍@sngular Sevilla\\n👇https://t.co/fK5QNZzE5m\\n\\nColaboran @opensistemas @sngular @TheBridge_Tech https://t.co/HysCgBSNpa', '2023-03-16', 936539844079218688, 3, 0, 6, 0), (1636418703528017945, '¡Presentamos cartelón para #DatabeerSVQ19! Nos vemos el jueves 23 a las 19.00 en la sede de @sngular para celebrar la llegada de la primavera con cervezas y datos🍻👩\\u200d💻 @SVQ_tech, ¡no te lo pierdas!\\n\\nCon la colaboración de @opensistemas @sngular @TheBridge_Tech https://t.co/aYbq2IpbcI', '2023-03-16', 936539844079218688, 7, 0, 10, 0), (1636407294572257282, '❗ Llega la segunda edición de #Reinventadxs 💫, organizado por @my_tech_plan y  @TheBridge_Tech.\\n\\nEl próximo 🗓️ 30 de marzo contaremos con 3 nuevas historias de reinvención hacía una profesión #Digital.\\n\\n🚩 ¡Apúntate ya! Aforo reducido 👉 https://t.co/4SUBGGdJJY\\n\\n#MadridTech https://t.co/jxWgYyKQU9', '2023-03-16', 1488155071053504522, 1, 0, 3, 0), (1636406780703166464, '@snowded at @TheBridge_Tech @TheCynefinCo #EstuarineMapping #Strategy #Change \"Understanding the dispositional state of the system in the present\" https://t.co/t0l3KJlvbc', '2023-03-16', 41545659, 1, 0, 9, 1), (1636333179068993536, '@snowded at @TheBridge_Tech @TheCynefinCo #EstuarineMapping \"What can be changed and what can\\'t be\" https://t.co/wDic0tiAE2', '2023-03-16', 41545659, 2, 0, 5, 0), (1636328527837425664, 'Si...\\n👉Estás en busca de inspiración y referentes reales y quieres cotillear las oportunidades que el ecosistema tecnológico tiene para ofrecerte.\\n\\n¡¡Ven al próximo Reinventadxs!!\\n📅 30 de marzo\\n⏰ 18h\\n📍@milmadrid_\\n\\n¡Te esperamos! Entradas 🎟 https://t.co/Sv0mcS7Cle https://t.co/xvmpGmXv9P', '2023-03-16', 1162694149956603904, 0, 0, 0, 0), (1636306592831266825, 'At @TheBridge_Tech 🥰', '2023-03-16', 41545659, 2, 0, 6, 0), (1636306349838462978, '@snowded at @TheBridge_Tech @TheCynefinCo #Madrid #Cynefin 🤩 https://t.co/YqWVXtTuw4', '2023-03-16', 41545659, 3, 0, 6, 0), (1636053394287632387, 'Ya estamos enfriando cervezas...🍻 y preparando presentaciones👩\\u200d💻 para la nueva edición de #DatabeerSevilla. \\n\\nRecuerda, el jueves 23 a las 19.00, en la sede de @sngular.\\n\\nCon la colaboración de @opensistemas, @sngular y @TheBridge_Tech \\n\\nhttps://t.co/fK5QNZzE5m', '2023-03-15', 936539844079218688, 4, 0, 6, 0), (1635802357568253952, 'Gran meetup en Madrid de @BitcoinTuesday_\\n\\nGracias a @TheBridge_Tech por el espacio, a Victor Gil de @detailorg  por contarnos el proyecto.\\nIncreíble el talento y las cosas que se están haciendo sobre #Bitcoin \\nGracias a todos los que vinieron\\n\\nSe repite el próximo 12 de abril! https://t.co/2Q6Ud1m5se', '2023-03-15', 1207228796593745920, 0, 0, 15, 1), (1635707093419192323, 'Presentando Agram Project en @TheBridge_Tech de la mano de @BitcoinTuesday_ #Bitcoin https://t.co/gsQV8pNwJM', '2023-03-14', 1575152712227880960, 2, 0, 3, 0), (1635677298581020672, '¿Quieres iniciarte en la #programación? ¡Conéctate al taller de Web Scraping, aprende JavaScript y Node.js mientras encuentras la mejor oferta para viajar en Semana Santa! ✈\\n\\n📅30 marzo\\n🕐17 h\\n💻Online\\n\\nEntradas 🎟https://t.co/9uS3pCaqYB\\n\\n#webscraping #bootcamp #fullstack https://t.co/TXt2M1SDfM', '2023-03-14', 1162694149956603904, 1, 0, 1, 0), (1635675802640560134, '¿Enemigo o aliado? #ChatGPT ha llegado para revolucionar el marketing digital \\U0001faf6 ¡Anímate y descubre con nosotros si ha venido a hacer la guerra a los profesionales del marketing o si podemos usarlo a nuestro favor!\\n\\n📅29 marzo\\n🕐17 h\\n💻Online\\n\\nEntradas 👉https://t.co/ek0NkgY5UE https://t.co/A4uhnJ752G', '2023-03-14', 1162694149956603904, 1, 0, 1, 0), (1635673104897679364, '¡Nuevo taller sobre #ChatGPT! Descubre las posibilidades de una de las tecnologías de #IA más potentes hasta la fecha 💥\\n\\n📅22 marzo\\n🕐17 h\\n💻Online\\n\\nApúntate ya 👉https://t.co/fNaEifhQXV\\n\\n#datascience #bootcamp https://t.co/1wLqcOVh29', '2023-03-14', 1162694149956603904, 1, 0, 1, 0), (1635332396118851584, '¡Ya huele a primavera #dataholic! Recuerda que el jueves 23 a las 19.00 lo celebramos cervecita en mano, hablando de datos, como más nos gusta:\\n👩\\u200d💻🍻\\n\\nCon la colaboración de @opensistemas, @sngular y @TheBridge_Tech \\n\\nhttps://t.co/fK5QNZAbUU', '2023-03-13', 936539844079218688, 2, 0, 3, 0), (1635293722773700608, 'A todos los #MLOps practitioners o simplemente curiosos, @TheBridge_Tech es el anfitrión de la @mlopscommunity en Madrid el próximo 28 de marzo.  Evento libre, plazas limitadas, con @manuelmartingg @mastertilla para hablarnos del oficio ¡desde las trincheras!', '2023-03-13', 41545659, 1, 0, 2, 0), (1635292410971574274, '¡El próximo 28 de marzo tendremos a @mlopscommunity en el campus de Madrid! 🦾Aprenderemos mucho sobre #IA de los mejores profesionales del data en @wallapop, @Busuu y Correcto. \\n\\nApúntate ya 👉 https://t.co/Vbl4XY6YSZ https://t.co/jFisn1Q8pG', '2023-03-13', 1162694149956603904, 1, 0, 5, 1), (1634672522288349186, '@ToniDorta @PauMugarra @SingularSolving @TheBridge_Tech No suelo yo dejar escapar oportunidades. Y estas reuniones donde brilláis personas extraordinarias son mi vicio favorito.\\nYo no estoy a vuestra altura pero sí encantada de asistir y observar.\\n(Opino exactamente igual en lo de la gratitud)', '2023-03-11', 1065208287430418432, 0, 0, 1, 0), (1634608625539842049, '@MISTERINCGNITA1 @PauMugarra @SingularSolving @TheBridge_Tech Tal vez la próxima vez! 🙃\\n(y lo de dar gracias es fácil: para mí, quien las recibe obtiene un beneficio, pero quien las da obtiene dos: reconoce lo bueno recibido y además ser agradecido está correlacionado con la felicidad; en cierta manera, lo hago más por mí q por el otro 🤣)', '2023-03-11', 259712221, 0, 1, 2, 0), (1634464314022064129, '@ToniDorta @PauMugarra @SingularSolving @TheBridge_Tech No fui muy a mi pesar.\\n(Me gusta la gente que da las gracias)', '2023-03-11', 1065208287430418432, 0, 1, 2, 0), (1634198589697146881, '@Godivaciones @PauMugarra @SingularSolving @TheBridge_Tech https://t.co/igFcNMTdIt', '2023-03-10', 259712221, 0, 0, 0, 0), (1634173890602622976, '@Godivaciones @ToniDorta @PauMugarra @SingularSolving @TheBridge_Tech https://t.co/8SPP4OOhYg', '2023-03-10', 7154412, 0, 0, 2, 0), (1634158559179988992, '@ToniDorta @PauMugarra @SingularSolving @TheBridge_Tech Lo tengo @ToniDorta a ver q te parece: Transición Empresarial a Tecnologías Avanzadas: TETA.', '2023-03-10', 17287251, 0, 2, 5, 0), (1634156947128700929, '@ToniDorta @PauMugarra @SingularSolving @TheBridge_Tech Digitransformación suena a pokemon. Pero voy a buscar algo más sexy.', '2023-03-10', 17287251, 0, 1, 3, 0), (1634147624138731520, \"@Godivaciones @PauMugarra @SingularSolving @TheBridge_Tech Me mola! Pero creo que en los dptos de marketing nos dirán que 'metamorfosis digital' suena demasiado a pokemon, y que no vendería suficientes licencias 🤣 https://t.co/aiL70E398k\", '2023-03-10', 259712221, 0, 1, 0, 0), (1634146661969666051, '@ToniDorta @PauMugarra @SingularSolving @TheBridge_Tech Lo mejor: la conversación interior que provocasteis unos y otros. Reivindico cambiar transformación por metamorfosis.', '2023-03-10', 17287251, 0, 1, 3, 0), (1634139911661006852, 'Muchas gracias a @PauMugarra por la organización y la dinamización de #CPSSpain, a @SingularSolving por la confianza depositada y a @TheBridge_Tech por el espacio.\\n\\n¡Y gracias a todos los asistentes por una participación tan activa! Las reflexiones y debate fueron lo mejor https://t.co/GPUyKsEabd', '2023-03-10', 259712221, 1, 2, 12, 0), (1633882844232839177, 'Recuerda que coincidiendo con la llegada de la #primaveratrompetera, celebramos nueva edición de #DatabeerSevilla, y van 19:\\n\\n📅Jueves 23/03 19.00\\n📍 @sngular #Sevilla \\n🍻 by @opensistemas y @TheBridge_Tech\\n \\n¡INSCRÍBETE! https://t.co/fK5QNZAbUU', '2023-03-09', 936539844079218688, 3, 0, 4, 0), (1633880326735790091, '#Dataholic, ¿conoces a nuestros patrocinadores?\\n@TheBridge_Tech desarrolla programas formativos intensivos y prácticos para dominar las claves de la nueva era tecnológica.\\nY se encarga de ayudarnos a abrir las🍻en #Databeers\\n¡Conócelos!\\nhttps://t.co/7TUu1MweE3', '2023-03-09', 936539844079218688, 3, 0, 4, 0), (1633857250879209474, '@TheBridge_Tech @DatabeerSVQ @Vacolba @andresmacariog interesante.', '2023-03-09', 1099588676181471233, 0, 0, 1, 0), (1633837747692802049, '¿Quieres formarte en ciberseguridad gratis?\\n\\nJunto a @INCIBE lanzamos #Cyberskills, la formación para personas con #discapacidad impartida por @TheBridge_Tech\\n\\n🔒Especialidad en #ciberseguridad\\n\\n📚250h de curso\\n\\n👩\\u200d💻En remoto\\n\\n📲Solicita hasta el 3 mayo https://t.co/oQDvbOK1aX https://t.co/4bFHQ2uVla', '2023-03-09', 1162694149956603904, 0, 0, 4, 0), (1633836976129576962, '¿Sientes el poder del #data? 🧠Apúntate al próximo encuentro de @DatabeerSVQ ¡Nos vemos allí!⬇', '2023-03-09', 1162694149956603904, 1, 1, 1, 0), (1633512915885072386, '¡Hola #Dataholics! Recuerda que tenemos abierto nuestro formulario de inscripción de ponentes⬇️. ¡Anímate a compartir tu experiencia con los datos! De todo lo demás, nos encargamos con nuestros patrocinadores @opensistemas @sngular @TheBridge_Tech \\n\\nhttps://t.co/JXhQKEZ7pL', '2023-03-08', 936539844079218688, 5, 0, 9, 0), (1633432911776043010, 'En @TheBridge_Tech hay cada vez más mujeres que deciden formarse en una profesión digital👩\\u200d💻\\n\\n¡Pero aún queda mucho camino por recorrer en el sector tech, en especial, en áreas como ciberseguridad, desarrollo web o cloud! \\n\\n¡Feliz #DíadelaMujer!💪\\n#8M #InternationalWomensDay https://t.co/UnQaktcLDi', '2023-03-08', 1162694149956603904, 1, 0, 3, 0), (1633154604018876416, '¡Hola #dataholics! La primavera trompetera se siente por las esquinas🌼y para celebrarlo estamos organizando una nueva edición de #Databeers (¡y van 19!):\\n\\n📅Jueves 23/03 19.00\\n📍 @sngular #Sevilla \\n🍻 by @opensistemas y @TheBridge_Tech \\n\\n¡INSCRÍBETE! https://t.co/fK5QNZzE5m', '2023-03-07', 936539844079218688, 3, 0, 9, 2), (1632767114380492803, '¡Evento #desarrolloweb en #Sevilla con Diego Freniche Brito, Developer Advocate en @MongoDB!\\n\\nCambiamos de ubicación ¡Te esperamos en @espacio_RES!\\n\\n📅16 marzo\\n⏰18 h\\n📍En @espacio_RES \\n\\nEntradas 👉https://t.co/MJ21xSfIX0 https://t.co/bYJuYAaZ6N', '2023-03-06', 1162694149956603904, 2, 0, 4, 0), (1632746286133702658, '¡Súper contentos de participar! Las temáticas prometen, sin duda 🤩 ¡No te lo pierdas! \\n\\n📍Universidad @pablodeolavide Sevilla\\n🎟Entradas https://t.co/jFvxqPvKTO', '2023-03-06', 1162694149956603904, 1, 0, 1, 0), (1632692123412594688, 'Las inscripciones se realizarán por Eventbrite. Cualquier duda estamos por MD o al correo info@esoliupo.es\\nhttps://t.co/xhVr7VXcF3\\n\\n@epsUPO @TheBridge_Tech', '2023-03-06', 1585726199485140993, 0, 0, 0, 0), (1632692120719859712, '¡Por fin podemos publicar el cartel con los ponentes para el #cybersecTalks! Si estás interesadx en alguna de las temáticas que aparecen no dudes en venir, es totalmente gratuito gracias al patrocinio de @TheBridge_Tech y la colaboración de @epsUPO @pablodeolavide \\n(+ info abajo) https://t.co/JF85MDGmXc', '2023-03-06', 1585726199485140993, 3, 1, 5, 1), (1632664546665025536, 'Encuentro de la @mlopscommunity en Madrid: \"MLOPs: desde las trincheras\" https://t.co/CHojEAs7ij en @TheBridge_Tech Ven a conocer la práctica #MLOps en Correcto., @Busuu @wallapop https://t.co/odie5CAuHU', '2023-03-06', 41545659, 1, 0, 3, 0), (1632147141224275970, '@nodosenlared @snowded @TheBridge_Tech Muy buena foto desde el Círculo de Bellas Artes', '2023-03-04', 925597948410580993, 0, 0, 1, 0), (1632020293509083137, '@PauMugarra @ToniDorta @TheBridge_Tech https://t.co/qv4oryC9i3', '2023-03-04', 276656109, 0, 0, 2, 0), (1631978537904222211, 'El meetup del jueves 9 de marzo con @ToniDorta se realizará finalmente @TheBridge_Tech 😄\\nNos sentimos tremendamente agradecidos por su generosidad.\\n¡Nos vemos este jueves!', '2023-03-04', 1003872445, 3, 1, 9, 1), (1631600898777444354, 'Ya esta publicado el meetup de @BitcoinTuesday_ para este 14 de Marzo a las 7PM en @TheBridge_Tech \\nMuy interesante:\\n\"Aplicaciones sobre Bitcoin con Agram Project!\\nCrea aplicaciones sin necesidad de usar código, sobre el stack de tecnologías de Bitcoin\"\\n \\nhttps://t.co/NQu4cxiPPh', '2023-03-03', 1207228796593745920, 4, 0, 11, 1), (1631548465649008640, '@rperezmarco @BitcoinTuesday_ @TheBridge_Tech No, espero que hoy nos digan y se comunique 😬😬 https://t.co/0rFMxwrlo6', '2023-03-03', 1207228796593745920, 0, 0, 0, 0), (1631528154744406018, '@decentralized_b @BitcoinTuesday_ @TheBridge_Tech Que suspense! Miniscript?', '2023-03-03', 2603024598, 0, 2, 2, 0), (1631244101902270464, 'Este 14 de Marzo hay meetup en Madrid de @BitcoinTuesday_ , se va a hablar de un proyecto muy interesante para poder realizar desarrollos sobre Bitcoin. En breve se pasarán los detalles\\nIr reservando el día y la hora, 7 PM en @TheBridge_Tech', '2023-03-02', 1207228796593745920, 12, 2, 21, 1), (1630831255922114562, '@TheBridge_Tech @Vacolba , interesante', '2023-03-01', 1099588676181471233, 0, 0, 0, 0), (1628402689255124995, 'De manager de #diseño a #fullstack developer👩\\u200d💻\\n\\nEsta es la historia de Isabel que realizó el #bootcamp de Desarrollo Web Full Stack para acelerar su carrera digital ⬇\\n\\n¿El resultado? Un cambio completo de trabajo y un nuevo comienzo en el sector #tech\\n\\n#desarrolloweb #developer https://t.co/xTvyQiXhXB', '2023-02-22', 1162694149956603904, 2, 1, 2, 0), (1627677085232779265, 'Seguro que has oído hablar del Cloud Computing ☁ ¿Quieres conocer en profundidad qué es eso de la nube y las posibilidades laborales que ofrece?\\n\\nNo te pierdas esta masterclass😆\\n\\n📅1 de marzo\\n⏰17 h.\\n💻Online\\n\\n¡Apúntate ya!👉https://t.co/aay1QKnRN3 https://t.co/eboE19jT3P', '2023-02-20', 1162694149956603904, 1, 1, 2, 0), (1626573673527234560, '@42UrdulizFTef @EstiLeon @workinlansummit @TheBridge_Tech @BBK_eus @PSEBizkaia @josebamondarain @grupo_ssi @socialistavasco @PSEBilbao @MtzGra @elcorreo_alava @elcorreo_com Muy buenas interacciones están teniendo las comunidades de las siguientes cuentas que copan el TOP 12 del #WORKinlan 🏆 https://t.co/g8SdZl1vL2', '2023-02-17', 1685197165, 0, 1, 2, 0), (1626573019844907008, '@42UrdulizFTef @EstiLeon @workinlansummit @TheBridge_Tech @BBK_eus Hoy finaliza #WORKinlan y lo hace ya con una buena participación en Twitter y eso que aún queda todo el día de hoy 💪 https://t.co/54lcCbyUGi', '2023-02-17', 1685197165, 0, 1, 0, 0), (1626267048434192385, '.@EstiLeon, Responsable del campus #42UrdulizFTef ya se encuentra participando de la mesa redonda - \"Nuevos formatos en la formación\" del @workinlansummit!\\n\\nCompartimos mesa con BBK Bootcamps by \\n@TheBridge_Tech, IED KunsthalBilbao y @BBK_eus\\n \\n#WORKinlan #Bizkaia #Educación https://t.co/Iu6ZYqlFLz', '2023-02-16', 1288769305014939650, 5, 1, 10, 0), (1626157411085033472, 'Buenos días CPSers!\\nHoy podemos confirmar que el tercer meetup de la comunidad #CPS en Madrid será en @TheBridge_Tech. Agradecemos enormemente la generosidad de este espacio, y os esperamos el miércoles que viene!\\n\\nP.D: Aún quedan unas pocas plazas, estáis a tiempo de apuntaros', '2023-02-16', 1003872445, 0, 1, 4, 0), (1626101043908993026, '@TheBridge_Tech @Vacolba @andresmacariog interesante', '2023-02-16', 1099588676181471233, 0, 0, 1, 0), (1625882688023416833, '¿Te animas a crear un videojuego con programación? 🎮 ¡Ven al taller de #desarrollowebfullstack en Sevilla!\\n\\nDesarrollaremos juntos un videojuego usando un poco de #JavaScript y #Canvas\\n\\n📆2 mar\\n⏰18.00h\\n📍Campus @ENCamaraSevilla\\n\\n¡Apúntate ya! 👉https://t.co/sO7cjQNX3A https://t.co/1AeD5EBmeT', '2023-02-15', 1162694149956603904, 3, 0, 2, 0), (1625828554691805187, '¿Los colores tienen género?¿podemos hacer una app destinada a mujeres sin caer en estereotipos?\\n\\nPara contestar a todo esto, presentamos la charla “La perspectiva de género en el diseño UX” ¡No te lo pierdas!\\n\\n📆23 feb\\n⏰18.00h\\n💻Online\\n\\n¡Inscríbete ya! 👉https://t.co/18K0xxRZUn https://t.co/VBjXQrD34t', '2023-02-15', 1162694149956603904, 2, 1, 2, 0), (1625825721862987777, '@BitcoinTuesday_ ¡Un placer!', '2023-02-15', 1162694149956603904, 0, 0, 2, 0), (1625813763751305216, 'Gracias a nuestros amigos @TheBridge_Tech por acogernos ayer en una manera bastante flexible, tenéis el equipo más adorable de todo Madrid! ♥️\\n\\nFue genial pasar San Valentín hablando #Bitcoin  🙏', '2023-02-15', 1530194743786881024, 2, 1, 10, 0), (1625165984414695426, '¡Nos vamos al WorkinLan Workshop en Bilbao junto a @BBK_eus !🤩\\n\\nLos días 16 y 17 de febrero impartiremos talleres de UX/UI, Data, ponencias sobre nuevos empleos y podrás ponerte a prueba con nuestro TechSkilling Proba.\\n\\n¡Inscríbete ya!👉 https://t.co/4DDrV2k2VR\\n\\n #bbkbootcamps https://t.co/XCMlcPJDyy', '2023-02-13', 1162694149956603904, 2, 0, 1, 0), (1625126689150738438, 'Les compartimos un mini resumen del 1º encuentro de #reinventadxs\\n\\nY anunciamos que entramos en la cuenta regresiva del 2º, apúntate esta fecha: 30 de marzo.\\n\\n¿Te vemos en #Madrid?\\n\\nGracias a @thebridge_tech y el @milmadrid_ por hacerlo posible y nos vemos pronto!\\n\\n#mytechplan https://t.co/z5fwZzNR5w', '2023-02-13', 4899284631, 0, 0, 2, 1)]\n"
     ]
    }
   ],
   "source": [
    "cursor = connection.cursor()\n",
    "select_tweets = \"SELECT * FROM tweets\"\n",
    "result = cursor.execute(select_tweets).fetchall()\n",
    "print(result)"
   ]
  },
  {
   "cell_type": "code",
   "execution_count": 11,
   "metadata": {},
   "outputs": [
    {
     "name": "stdout",
     "output_type": "stream",
     "text": [
      "[(987047282, 'A3Sec', 'a3sec'), (1162694149956603904, 'The Bridge', 'TheBridge_Tech'), (41545659, 'Mario Lopez de Avila', 'nodosenlared'), (1162694149956603904, 'The Bridge', 'TheBridge_Tech'), (1162694149956603904, 'The Bridge', 'TheBridge_Tech'), (1585726199485140993, 'Asociación de Estudiantes de Software Libre UPO', 'ESOLIUPO'), (1585726199485140993, 'Asociación de Estudiantes de Software Libre UPO', 'ESOLIUPO'), (1585726199485140993, 'Asociación de Estudiantes de Software Libre UPO', 'ESOLIUPO'), (41545659, 'Mario Lopez de Avila', 'nodosenlared'), (1162694149956603904, 'The Bridge', 'TheBridge_Tech'), (1162694149956603904, 'The Bridge', 'TheBridge_Tech'), (3588258623, 'Madrid For Refugees', 'Madrid4Refugees'), (1162694149956603904, 'The Bridge', 'TheBridge_Tech'), (1162694149956603904, 'The Bridge', 'TheBridge_Tech'), (570795448, 'EDEM', 'EDEMempresarios'), (1162694149956603904, 'The Bridge', 'TheBridge_Tech'), (2402179123, 'Jorge González Revilla', 'jorgegrev'), (1162694149956603904, 'The Bridge', 'TheBridge_Tech'), (2402179123, 'Jorge González Revilla', 'jorgegrev'), (1613113784926707712, 'Manu', 'ProductoActual1'), (1162694149956603904, 'The Bridge', 'TheBridge_Tech'), (1162694149956603904, 'The Bridge', 'TheBridge_Tech'), (20979418, 'Iñaki Gorostiza', 'hello_google'), (1162694149956603904, 'The Bridge', 'TheBridge_Tech'), (1585726199485140993, 'Asociación de Estudiantes de Software Libre UPO', 'ESOLIUPO'), (1162694149956603904, 'The Bridge', 'TheBridge_Tech'), (570795448, 'EDEM', 'EDEMempresarios'), (1003872445, 'Pau Mugarra', 'PauMugarra'), (276656109, 'Jorge Ordovás', 'joobid'), (1003872445, 'Pau Mugarra', 'PauMugarra'), (823470817963032576, 'BBK network', 'BBKnetwork'), (1162694149956603904, 'The Bridge', 'TheBridge_Tech'), (192329549, 'J. A. Vizcaíno Jiménez', 'vizca75'), (20979418, 'Iñaki Gorostiza', 'hello_google'), (192329549, 'J. A. Vizcaíno Jiménez', 'vizca75'), (1162694149956603904, 'The Bridge', 'TheBridge_Tech'), (1162694149956603904, 'The Bridge', 'TheBridge_Tech'), (40046861, 'Carlos M. Diaz', 'carlosmdh'), (20979418, 'Iñaki Gorostiza', 'hello_google'), (40046861, 'Carlos M. Diaz', 'carlosmdh'), (1268490708945698817, 'Ale Pietra 🎠 SEO & Analítica', 'AlejoPietraSEO'), (890890468988473346, 'Ubaldo Hervás', 'UbaldoHervas'), (20979418, 'Iñaki Gorostiza', 'hello_google'), (1162694149956603904, 'The Bridge', 'TheBridge_Tech'), (1162694149956603904, 'The Bridge', 'TheBridge_Tech'), (710051187001843712, 'Alejandro de Otero ⚡️', 'alexaom6_'), (1162694149956603904, 'The Bridge', 'TheBridge_Tech'), (1162694149956603904, 'The Bridge', 'TheBridge_Tech'), (998353386, 'Pat Nar', 'libertariadora'), (710051187001843712, 'Alejandro de Otero ⚡️', 'alexaom6_'), (1355885838991843328, 'Gzuuus⚡', 'gzuuus'), (1207228796593745920, 'Decentralized ₿丰⚡', 'decentralized_b'), (1407291884901482496, 'Cluster CyberMadrid', 'Cyber_Madrid'), (1162694149956603904, 'The Bridge', 'TheBridge_Tech'), (4899284631, 'My Tech Plan', 'my_tech_plan'), (4899284631, 'My Tech Plan', 'my_tech_plan'), (998353386, 'Pat Nar', 'libertariadora'), (1488155071053504522, 'MIL Madrid - Madrid Innovation Lab', 'milmadrid_'), (2601978874, 'espacio_RES', 'espacio_RES'), (1162694149956603904, 'The Bridge', 'TheBridge_Tech'), (2601978874, 'espacio_RES', 'espacio_RES'), (561463549, 'Luis Mesa', 'luismesalas'), (936539844079218688, 'DatabeerSVQ', 'DatabeerSVQ'), (936539844079218688, 'DatabeerSVQ', 'DatabeerSVQ'), (1162694149956603904, 'The Bridge', 'TheBridge_Tech'), (2601978874, 'espacio_RES', 'espacio_RES'), (1162694149956603904, 'The Bridge', 'TheBridge_Tech'), (2601978874, 'espacio_RES', 'espacio_RES'), (936539844079218688, 'DatabeerSVQ', 'DatabeerSVQ'), (1162694149956603904, 'The Bridge', 'TheBridge_Tech'), (1162694149956603904, 'The Bridge', 'TheBridge_Tech'), (936539844079218688, 'DatabeerSVQ', 'DatabeerSVQ'), (936539844079218688, 'DatabeerSVQ', 'DatabeerSVQ'), (1162694149956603904, 'The Bridge', 'TheBridge_Tech'), (1162694149956603904, 'The Bridge', 'TheBridge_Tech'), (41545659, 'Mario Lopez de Avila', 'nodosenlared'), (936539844079218688, 'DatabeerSVQ', 'DatabeerSVQ'), (1162694149956603904, 'The Bridge', 'TheBridge_Tech'), (20905187, 'Jose Manuel de la Chica', 'Delachica'), (936539844079218688, 'DatabeerSVQ', 'DatabeerSVQ'), (936539844079218688, 'DatabeerSVQ', 'DatabeerSVQ'), (936539844079218688, 'DatabeerSVQ', 'DatabeerSVQ'), (936539844079218688, 'DatabeerSVQ', 'DatabeerSVQ'), (936539844079218688, 'DatabeerSVQ', 'DatabeerSVQ'), (1488155071053504522, 'MIL Madrid - Madrid Innovation Lab', 'milmadrid_'), (41545659, 'Mario Lopez de Avila', 'nodosenlared'), (41545659, 'Mario Lopez de Avila', 'nodosenlared'), (1162694149956603904, 'The Bridge', 'TheBridge_Tech'), (41545659, 'Mario Lopez de Avila', 'nodosenlared'), (41545659, 'Mario Lopez de Avila', 'nodosenlared'), (936539844079218688, 'DatabeerSVQ', 'DatabeerSVQ'), (1207228796593745920, 'Decentralized ₿丰⚡', 'decentralized_b'), (1575152712227880960, 'Detailorg', 'detailorg'), (1162694149956603904, 'The Bridge', 'TheBridge_Tech'), (1162694149956603904, 'The Bridge', 'TheBridge_Tech'), (1162694149956603904, 'The Bridge', 'TheBridge_Tech'), (936539844079218688, 'DatabeerSVQ', 'DatabeerSVQ'), (41545659, 'Mario Lopez de Avila', 'nodosenlared'), (1162694149956603904, 'The Bridge', 'TheBridge_Tech'), (1065208287430418432, 'MISTER INCOGNITA', 'MISTERINCGNITA1'), (259712221, 'Toni Dorta', 'ToniDorta'), (1065208287430418432, 'MISTER INCOGNITA', 'MISTERINCGNITA1'), (259712221, 'Toni Dorta', 'ToniDorta'), (7154412, 'Javier G. Recuenco', 'Recuenco'), (17287251, 'María Blanco', 'Godivaciones'), (17287251, 'María Blanco', 'Godivaciones'), (259712221, 'Toni Dorta', 'ToniDorta'), (17287251, 'María Blanco', 'Godivaciones'), (259712221, 'Toni Dorta', 'ToniDorta'), (936539844079218688, 'DatabeerSVQ', 'DatabeerSVQ'), (936539844079218688, 'DatabeerSVQ', 'DatabeerSVQ'), (1099588676181471233, 'Flor_Turoninos', 'turoninos'), (1162694149956603904, 'The Bridge', 'TheBridge_Tech'), (1162694149956603904, 'The Bridge', 'TheBridge_Tech'), (936539844079218688, 'DatabeerSVQ', 'DatabeerSVQ'), (1162694149956603904, 'The Bridge', 'TheBridge_Tech'), (936539844079218688, 'DatabeerSVQ', 'DatabeerSVQ'), (1162694149956603904, 'The Bridge', 'TheBridge_Tech'), (1162694149956603904, 'The Bridge', 'TheBridge_Tech'), (1585726199485140993, 'Asociación de Estudiantes de Software Libre UPO', 'ESOLIUPO'), (1585726199485140993, 'Asociación de Estudiantes de Software Libre UPO', 'ESOLIUPO'), (41545659, 'Mario Lopez de Avila', 'nodosenlared'), (925597948410580993, 'Valerio Rocco Lozano', 'RoccoLozano'), (276656109, 'Jorge Ordovás', 'joobid'), (1003872445, 'Pau Mugarra', 'PauMugarra'), (1207228796593745920, 'Decentralized ₿丰⚡', 'decentralized_b'), (1207228796593745920, 'Decentralized ₿丰⚡', 'decentralized_b'), (2603024598, 'Ricardo Pérez-Marco', 'rperezmarco'), (1207228796593745920, 'Decentralized ₿丰⚡', 'decentralized_b'), (1099588676181471233, 'Flor_Turoninos', 'turoninos'), (1162694149956603904, 'The Bridge', 'TheBridge_Tech'), (1162694149956603904, 'The Bridge', 'TheBridge_Tech'), (1685197165, 'Metricool ES ∞', 'Metricool_es'), (1685197165, 'Metricool ES ∞', 'Metricool_es'), (1288769305014939650, '42 Urduliz', '42UrdulizFTef'), (1003872445, 'Pau Mugarra', 'PauMugarra'), (1099588676181471233, 'Flor_Turoninos', 'turoninos'), (1162694149956603904, 'The Bridge', 'TheBridge_Tech'), (1162694149956603904, 'The Bridge', 'TheBridge_Tech'), (1162694149956603904, 'The Bridge', 'TheBridge_Tech'), (1530194743786881024, 'Bitcoin Tuesday', 'BitcoinTuesday_'), (1162694149956603904, 'The Bridge', 'TheBridge_Tech'), (4899284631, 'My Tech Plan', 'my_tech_plan')]\n"
     ]
    }
   ],
   "source": [
    "cursor = connection.cursor()\n",
    "select_users = \"SELECT * FROM users\"\n",
    "result = cursor.execute(select_users).fetchall()\n",
    "print(result)"
   ]
  },
  {
   "cell_type": "code",
   "execution_count": 12,
   "metadata": {},
   "outputs": [],
   "source": [
    "connection.close()"
   ]
  }
 ],
 "metadata": {
  "kernelspec": {
   "display_name": "myenv",
   "language": "python",
   "name": "python3"
  },
  "language_info": {
   "codemirror_mode": {
    "name": "ipython",
    "version": 3
   },
   "file_extension": ".py",
   "mimetype": "text/x-python",
   "name": "python",
   "nbconvert_exporter": "python",
   "pygments_lexer": "ipython3",
   "version": "3.8.5"
  },
  "orig_nbformat": 4
 },
 "nbformat": 4,
 "nbformat_minor": 2
}
